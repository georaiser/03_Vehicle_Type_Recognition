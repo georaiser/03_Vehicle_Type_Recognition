{
 "cells": [
  {
   "cell_type": "markdown",
   "id": "cbb8ba4f",
   "metadata": {},
   "source": [
    "https://www.kaggle.com/competitions/vehicle/overview"
   ]
  },
  {
   "cell_type": "code",
   "execution_count": 3,
   "id": "99543d52",
   "metadata": {},
   "outputs": [],
   "source": [
    "import os\n",
    "#os.environ[\"CUDA_VISIBLE_DEVICES\"] = \"-1\""
   ]
  },
  {
   "cell_type": "code",
   "execution_count": 4,
   "id": "27ed4bb5",
   "metadata": {},
   "outputs": [],
   "source": [
    "# Import library\n",
    "import os\n",
    "import shutil\n",
    "import glob\n",
    "import seaborn as sns\n",
    "import matplotlib.pyplot as plt\n",
    "import numpy as np\n",
    "import pandas as pd\n",
    "from math import ceil\n",
    "from collections import Counter"
   ]
  },
  {
   "cell_type": "code",
   "execution_count": 5,
   "id": "f971f462",
   "metadata": {},
   "outputs": [],
   "source": [
    "import cv2\n",
    "from sklearn.model_selection import train_test_split\n",
    "from sklearn.preprocessing import LabelEncoder\n",
    "from sklearn.utils import class_weight"
   ]
  },
  {
   "cell_type": "code",
   "execution_count": 6,
   "id": "2b10027b",
   "metadata": {},
   "outputs": [],
   "source": [
    "import itertools\n",
    "import tensorflow as tf \n",
    "from tensorflow.keras.layers import Conv2D, MaxPooling2D, Dropout, Flatten, Dense, GlobalAveragePooling2D\n",
    "from tensorflow.keras.layers import BatchNormalization\n",
    "from tensorflow.keras.preprocessing.image import ImageDataGenerator\n",
    "from tensorflow.keras.callbacks import ModelCheckpoint, EarlyStopping\n",
    "from tensorflow.keras import models, optimizers, regularizers"
   ]
  },
  {
   "cell_type": "code",
   "execution_count": 7,
   "id": "53e46bdb",
   "metadata": {},
   "outputs": [],
   "source": [
    "from tensorflow.keras.applications.efficientnet import preprocess_input as preprocess_input_efficientnet\n",
    "from tensorflow.keras.applications.inception_v3 import preprocess_input as preprocess_input_inception_v3"
   ]
  },
  {
   "cell_type": "code",
   "execution_count": 8,
   "id": "96023a25",
   "metadata": {},
   "outputs": [],
   "source": [
    "import warnings\n",
    "warnings.filterwarnings('ignore')"
   ]
  },
  {
   "cell_type": "code",
   "execution_count": 9,
   "id": "d21e0490",
   "metadata": {},
   "outputs": [],
   "source": [
    "path_train_orig='vehicle/train/trainset/'"
   ]
  },
  {
   "cell_type": "code",
   "execution_count": 10,
   "id": "c0071d82",
   "metadata": {},
   "outputs": [
    {
     "data": {
      "text/html": [
       "<div>\n",
       "<style scoped>\n",
       "    .dataframe tbody tr th:only-of-type {\n",
       "        vertical-align: middle;\n",
       "    }\n",
       "\n",
       "    .dataframe tbody tr th {\n",
       "        vertical-align: top;\n",
       "    }\n",
       "\n",
       "    .dataframe thead th {\n",
       "        text-align: right;\n",
       "    }\n",
       "</style>\n",
       "<table border=\"1\" class=\"dataframe\">\n",
       "  <thead>\n",
       "    <tr style=\"text-align: right;\">\n",
       "      <th></th>\n",
       "      <th>0</th>\n",
       "      <th>1</th>\n",
       "      <th>2</th>\n",
       "      <th>3</th>\n",
       "      <th>4</th>\n",
       "      <th>5</th>\n",
       "      <th>6</th>\n",
       "      <th>7</th>\n",
       "      <th>8</th>\n",
       "      <th>9</th>\n",
       "      <th>10</th>\n",
       "      <th>11</th>\n",
       "      <th>12</th>\n",
       "      <th>13</th>\n",
       "      <th>14</th>\n",
       "      <th>15</th>\n",
       "      <th>16</th>\n",
       "    </tr>\n",
       "  </thead>\n",
       "  <tbody>\n",
       "    <tr>\n",
       "      <th>0</th>\n",
       "      <td>Ambulance</td>\n",
       "      <td>Barge</td>\n",
       "      <td>Bicycle</td>\n",
       "      <td>Boat</td>\n",
       "      <td>Bus</td>\n",
       "      <td>Car</td>\n",
       "      <td>Cart</td>\n",
       "      <td>Caterpillar</td>\n",
       "      <td>Helicopter</td>\n",
       "      <td>Limousine</td>\n",
       "      <td>Motorcycle</td>\n",
       "      <td>Segway</td>\n",
       "      <td>Snowmobile</td>\n",
       "      <td>Tank</td>\n",
       "      <td>Taxi</td>\n",
       "      <td>Truck</td>\n",
       "      <td>Van</td>\n",
       "    </tr>\n",
       "  </tbody>\n",
       "</table>\n",
       "</div>"
      ],
      "text/plain": [
       "          0      1        2     3    4    5     6            7           8   \\\n",
       "0  Ambulance  Barge  Bicycle  Boat  Bus  Car  Cart  Caterpillar  Helicopter   \n",
       "\n",
       "          9           10      11          12    13    14     15   16  \n",
       "0  Limousine  Motorcycle  Segway  Snowmobile  Tank  Taxi  Truck  Van  "
      ]
     },
     "execution_count": 10,
     "metadata": {},
     "output_type": "execute_result"
    }
   ],
   "source": [
    "pd.DataFrame(os.listdir(path_train_orig)).T"
   ]
  },
  {
   "cell_type": "code",
   "execution_count": 11,
   "id": "59d2cc69",
   "metadata": {},
   "outputs": [
    {
     "data": {
      "text/html": [
       "<div>\n",
       "<style scoped>\n",
       "    .dataframe tbody tr th:only-of-type {\n",
       "        vertical-align: middle;\n",
       "    }\n",
       "\n",
       "    .dataframe tbody tr th {\n",
       "        vertical-align: top;\n",
       "    }\n",
       "\n",
       "    .dataframe thead th {\n",
       "        text-align: right;\n",
       "    }\n",
       "</style>\n",
       "<table border=\"1\" class=\"dataframe\">\n",
       "  <thead>\n",
       "    <tr style=\"text-align: right;\">\n",
       "      <th></th>\n",
       "      <th>data_path</th>\n",
       "      <th>class</th>\n",
       "      <th>imagen</th>\n",
       "    </tr>\n",
       "  </thead>\n",
       "  <tbody>\n",
       "    <tr>\n",
       "      <th>0</th>\n",
       "      <td>vehicle/train/trainset/Ambulance/000040_09.jpg</td>\n",
       "      <td>Ambulance</td>\n",
       "      <td>000040_09.jpg</td>\n",
       "    </tr>\n",
       "    <tr>\n",
       "      <th>1</th>\n",
       "      <td>vehicle/train/trainset/Ambulance/000050_10.jpg</td>\n",
       "      <td>Ambulance</td>\n",
       "      <td>000050_10.jpg</td>\n",
       "    </tr>\n",
       "    <tr>\n",
       "      <th>2</th>\n",
       "      <td>vehicle/train/trainset/Ambulance/000052_03.jpg</td>\n",
       "      <td>Ambulance</td>\n",
       "      <td>000052_03.jpg</td>\n",
       "    </tr>\n",
       "    <tr>\n",
       "      <th>3</th>\n",
       "      <td>vehicle/train/trainset/Ambulance/000057_04.jpg</td>\n",
       "      <td>Ambulance</td>\n",
       "      <td>000057_04.jpg</td>\n",
       "    </tr>\n",
       "    <tr>\n",
       "      <th>4</th>\n",
       "      <td>vehicle/train/trainset/Ambulance/000067_14.jpg</td>\n",
       "      <td>Ambulance</td>\n",
       "      <td>000067_14.jpg</td>\n",
       "    </tr>\n",
       "  </tbody>\n",
       "</table>\n",
       "</div>"
      ],
      "text/plain": [
       "                                        data_path      class         imagen\n",
       "0  vehicle/train/trainset/Ambulance/000040_09.jpg  Ambulance  000040_09.jpg\n",
       "1  vehicle/train/trainset/Ambulance/000050_10.jpg  Ambulance  000050_10.jpg\n",
       "2  vehicle/train/trainset/Ambulance/000052_03.jpg  Ambulance  000052_03.jpg\n",
       "3  vehicle/train/trainset/Ambulance/000057_04.jpg  Ambulance  000057_04.jpg\n",
       "4  vehicle/train/trainset/Ambulance/000067_14.jpg  Ambulance  000067_14.jpg"
      ]
     },
     "execution_count": 11,
     "metadata": {},
     "output_type": "execute_result"
    }
   ],
   "source": [
    "# make dataset\n",
    "data=[]\n",
    "for categories in os.listdir(path_train_orig):\n",
    "    #for f in glob.iglob(path+'data/*.SAFE')\n",
    "    for img in os.listdir(path_train_orig+categories):\n",
    "        data.append((path_train_orig+categories+'/'+img, categories, img))\n",
    "                    \n",
    "df_train=pd.DataFrame(data, columns=['data_path', 'class', 'imagen' ])\n",
    "df_train.head()"
   ]
  },
  {
   "cell_type": "code",
   "execution_count": 12,
   "id": "e9eb08a8",
   "metadata": {},
   "outputs": [
    {
     "data": {
      "text/plain": [
       "Boat           8695\n",
       "Car            6781\n",
       "Motorcycle     2986\n",
       "Bus            2133\n",
       "Truck          2033\n",
       "Bicycle        1618\n",
       "Van            1111\n",
       "Taxi            748\n",
       "Helicopter      668\n",
       "Caterpillar     331\n",
       "Tank            206\n",
       "Barge           202\n",
       "Segway          153\n",
       "Ambulance       132\n",
       "Snowmobile      123\n",
       "Limousine        74\n",
       "Cart             51\n",
       "Name: class, dtype: int64"
      ]
     },
     "execution_count": 12,
     "metadata": {},
     "output_type": "execute_result"
    }
   ],
   "source": [
    "# value count of class\n",
    "df_train['class'].value_counts()"
   ]
  },
  {
   "cell_type": "code",
   "execution_count": 13,
   "id": "b517f1bb",
   "metadata": {},
   "outputs": [],
   "source": [
    "categories = df_train['class'].unique()"
   ]
  },
  {
   "cell_type": "code",
   "execution_count": 15,
   "id": "a49363b0",
   "metadata": {},
   "outputs": [],
   "source": [
    "categories = df_train['class'].unique()"
   ]
  },
  {
   "cell_type": "code",
   "execution_count": 16,
   "id": "6d7bda8b",
   "metadata": {},
   "outputs": [
    {
     "data": {
      "text/plain": [
       "17"
      ]
     },
     "execution_count": 16,
     "metadata": {},
     "output_type": "execute_result"
    }
   ],
   "source": [
    "len(categories)"
   ]
  },
  {
   "cell_type": "code",
   "execution_count": 17,
   "id": "b36caec0",
   "metadata": {},
   "outputs": [],
   "source": [
    "X=df_train.drop('class', axis=1)"
   ]
  },
  {
   "cell_type": "code",
   "execution_count": 18,
   "id": "24a12f88",
   "metadata": {},
   "outputs": [
    {
     "data": {
      "text/plain": [
       "array([ 0,  0,  0, ..., 16, 16, 16])"
      ]
     },
     "execution_count": 18,
     "metadata": {},
     "output_type": "execute_result"
    }
   ],
   "source": [
    "# label encoder (class)\n",
    "y_encoder=LabelEncoder().fit_transform(df_train['class'].values)\n",
    "#y=tf.keras.utils.to_categorical(y_encoder, num_classes=len(categories))\n",
    "y=y_encoder\n",
    "y"
   ]
  },
  {
   "cell_type": "code",
   "execution_count": 19,
   "id": "84f8d32f",
   "metadata": {},
   "outputs": [],
   "source": [
    "X_train, X_val, y_train, y_val = train_test_split(X, y, test_size=0.2, random_state=42, stratify=y)"
   ]
  },
  {
   "cell_type": "code",
   "execution_count": 20,
   "id": "7ad77922",
   "metadata": {},
   "outputs": [
    {
     "data": {
      "text/plain": [
       "((22436, 2), (22436,))"
      ]
     },
     "execution_count": 20,
     "metadata": {},
     "output_type": "execute_result"
    }
   ],
   "source": [
    "X_train.shape, y_train.shape"
   ]
  },
  {
   "cell_type": "code",
   "execution_count": 21,
   "id": "dde547fa",
   "metadata": {},
   "outputs": [
    {
     "data": {
      "text/plain": [
       "((5609, 2), (5609,))"
      ]
     },
     "execution_count": 21,
     "metadata": {},
     "output_type": "execute_result"
    }
   ],
   "source": [
    "X_val.shape, y_val.shape"
   ]
  },
  {
   "cell_type": "code",
   "execution_count": 22,
   "id": "354f0619",
   "metadata": {},
   "outputs": [],
   "source": [
    "def make_dataframe_src_dst(df, path_orig, folder1, folder2):\n",
    "     \n",
    "    # make dataframe src-dst \n",
    "    sym=df[['data_path']].applymap(lambda x: x.replace(folder1, folder2))\n",
    "    sym.columns=['dst']\n",
    "    sym['src']=df['data_path'].copy()\n",
    "    sym=sym[['src','dst']]\n",
    "    #print(sym.head(2))\n",
    "    # make directory of links for data flow from directory\n",
    "    path = os.path.join('', *path_orig.split('/')[:-2],folder2)\n",
    "    for new_path in categories:\n",
    "        if os.path.exists(path+'/'+ new_path):\n",
    "            shutil.rmtree(path+'/'+ new_path)\n",
    "            os.makedirs(path+'/'+ new_path)\n",
    "        else:\n",
    "            os.makedirs(path+'/'+ new_path)\n",
    "\n",
    "    # make symlink\n",
    "    for index, row in sym.iterrows():\n",
    "        os.symlink(os.getcwd()+'/'+row['src'], os.getcwd()+'/'+row['dst'])"
   ]
  },
  {
   "cell_type": "code",
   "execution_count": 23,
   "id": "0d4e6d39",
   "metadata": {},
   "outputs": [],
   "source": [
    "# make dataset train - val\n",
    "#make_dataframe_src_dst(X_train, path_train_orig, 'trainset', 'train_folder')\n",
    "#make_dataframe_src_dst(X_val, path_train_orig, 'trainset', 'val_folder')"
   ]
  },
  {
   "cell_type": "code",
   "execution_count": 24,
   "id": "530e5d2c",
   "metadata": {},
   "outputs": [],
   "source": [
    "train_path=os.path.join('', *path_train_orig.split('/')[:-2],'train_folder/')\n",
    "val_path=os.path.join('', *path_train_orig.split('/')[:-2],'val_folder/')\n",
    "test_path='vehicle/test/'"
   ]
  },
  {
   "cell_type": "code",
   "execution_count": 25,
   "id": "0a433620",
   "metadata": {},
   "outputs": [
    {
     "data": {
      "text/plain": [
       "('vehicle/train/train_folder/', 'vehicle/train/val_folder/', 'vehicle/test/')"
      ]
     },
     "execution_count": 25,
     "metadata": {},
     "output_type": "execute_result"
    }
   ],
   "source": [
    "train_path, val_path, test_path"
   ]
  },
  {
   "cell_type": "code",
   "execution_count": 26,
   "id": "22b9b896",
   "metadata": {},
   "outputs": [
    {
     "data": {
      "text/plain": [
       "(0, 255)"
      ]
     },
     "execution_count": 26,
     "metadata": {},
     "output_type": "execute_result"
    }
   ],
   "source": [
    "# min-max image values\n",
    "img.min(), img.max()"
   ]
  },
  {
   "cell_type": "markdown",
   "id": "2f5c5f46",
   "metadata": {},
   "source": [
    "## Convolutional Neural Network (CNN)"
   ]
  },
  {
   "cell_type": "code",
   "execution_count": 27,
   "id": "41921ca9",
   "metadata": {},
   "outputs": [],
   "source": [
    "# epochs\n",
    "epochs_val = 15\n",
    "\n",
    "# batch_size\n",
    "batch_size_val = 32\n",
    "\n",
    "# target_size\n",
    "#224\n",
    "target_size_val=(224,224)\n",
    "\n",
    "# input_shape\n",
    "input_shape_val = (target_size_val[0],target_size_val[1], 3)"
   ]
  },
  {
   "cell_type": "markdown",
   "id": "ed9849a2",
   "metadata": {},
   "source": [
    "### Datagen"
   ]
  },
  {
   "cell_type": "code",
   "execution_count": 28,
   "id": "b4ae3a91",
   "metadata": {},
   "outputs": [],
   "source": [
    "# Datagen and augmentation\n",
    "train_datagen = ImageDataGenerator(\n",
    "    rescale=1./255,\n",
    "    rotation_range=10,\n",
    "    width_shift_range=0.2,\n",
    "    height_shift_range=0.2,\n",
    "    shear_range=0.2,\n",
    "    zoom_range=0.2,\n",
    "    horizontal_flip=True,\n",
    "    preprocessing_function=None)\n",
    "\n",
    "validation_datagen = ImageDataGenerator(rescale=1./255)\n",
    "\n",
    "test_datagen = ImageDataGenerator(rescale=1./255)"
   ]
  },
  {
   "cell_type": "markdown",
   "id": "4c663657",
   "metadata": {},
   "source": [
    "### Data Generator"
   ]
  },
  {
   "cell_type": "code",
   "execution_count": 29,
   "id": "1a71c4b1",
   "metadata": {},
   "outputs": [
    {
     "name": "stdout",
     "output_type": "stream",
     "text": [
      "Found 22436 images belonging to 17 classes.\n",
      "Found 5609 images belonging to 17 classes.\n",
      "Found 7958 images belonging to 1 classes.\n"
     ]
    }
   ],
   "source": [
    "# Train / Validation - Data Generator\n",
    "train_generator = train_datagen.flow_from_directory(train_path,\n",
    "                                 target_size=target_size_val,\n",
    "                                 batch_size=batch_size_val,\n",
    "                                 class_mode = 'categorical')\n",
    "\n",
    "validation_generator = validation_datagen.flow_from_directory(val_path,\n",
    "                                 target_size=target_size_val,\n",
    "                                 batch_size=batch_size_val,\n",
    "                                 class_mode = 'categorical')\n",
    "\n",
    "# Test \n",
    "test_generator = test_datagen.flow_from_directory(test_path,\n",
    "                                 target_size=target_size_val,\n",
    "                                 shuffle = False,\n",
    "                                 class_mode = 'categorical')"
   ]
  },
  {
   "cell_type": "code",
   "execution_count": 30,
   "id": "b5f955c5",
   "metadata": {},
   "outputs": [
    {
     "name": "stdout",
     "output_type": "stream",
     "text": [
      "Found 28045 validated image filenames belonging to 17 classes.\n"
     ]
    }
   ],
   "source": [
    "# example from DataFrame\n",
    "# Train Data Generator from DataFrame\n",
    "train_generator_df = train_datagen.flow_from_dataframe(dataframe=df_train, # original, without validation split\n",
    "                                              x_col='data_path', \n",
    "                                              y_col='class', \n",
    "                                              target_size=target_size_val,      \n",
    "                                              batch_size=batch_size_val,\n",
    "                                              class_mode = 'categorical')"
   ]
  },
  {
   "cell_type": "markdown",
   "id": "a4da1cbc",
   "metadata": {},
   "source": [
    "### plot images of train_generator"
   ]
  },
  {
   "cell_type": "markdown",
   "id": "a84007c1",
   "metadata": {},
   "source": [
    "### Models"
   ]
  },
  {
   "cell_type": "code",
   "execution_count": 30,
   "id": "baa05537",
   "metadata": {},
   "outputs": [
    {
     "name": "stderr",
     "output_type": "stream",
     "text": [
      "2022-04-27 20:13:41.891397: I tensorflow/stream_executor/cuda/cuda_gpu_executor.cc:936] successful NUMA node read from SysFS had negative value (-1), but there must be at least one NUMA node, so returning NUMA node zero\n",
      "2022-04-27 20:13:41.935359: I tensorflow/stream_executor/cuda/cuda_gpu_executor.cc:936] successful NUMA node read from SysFS had negative value (-1), but there must be at least one NUMA node, so returning NUMA node zero\n",
      "2022-04-27 20:13:41.935856: I tensorflow/stream_executor/cuda/cuda_gpu_executor.cc:936] successful NUMA node read from SysFS had negative value (-1), but there must be at least one NUMA node, so returning NUMA node zero\n",
      "2022-04-27 20:13:41.937494: I tensorflow/core/platform/cpu_feature_guard.cc:151] This TensorFlow binary is optimized with oneAPI Deep Neural Network Library (oneDNN) to use the following CPU instructions in performance-critical operations:  AVX2 FMA\n",
      "To enable them in other operations, rebuild TensorFlow with the appropriate compiler flags.\n",
      "2022-04-27 20:13:41.938087: I tensorflow/stream_executor/cuda/cuda_gpu_executor.cc:936] successful NUMA node read from SysFS had negative value (-1), but there must be at least one NUMA node, so returning NUMA node zero\n",
      "2022-04-27 20:13:41.938607: I tensorflow/stream_executor/cuda/cuda_gpu_executor.cc:936] successful NUMA node read from SysFS had negative value (-1), but there must be at least one NUMA node, so returning NUMA node zero\n",
      "2022-04-27 20:13:41.939007: I tensorflow/stream_executor/cuda/cuda_gpu_executor.cc:936] successful NUMA node read from SysFS had negative value (-1), but there must be at least one NUMA node, so returning NUMA node zero\n",
      "2022-04-27 20:13:43.083857: I tensorflow/stream_executor/cuda/cuda_gpu_executor.cc:936] successful NUMA node read from SysFS had negative value (-1), but there must be at least one NUMA node, so returning NUMA node zero\n",
      "2022-04-27 20:13:43.084779: I tensorflow/stream_executor/cuda/cuda_gpu_executor.cc:936] successful NUMA node read from SysFS had negative value (-1), but there must be at least one NUMA node, so returning NUMA node zero\n",
      "2022-04-27 20:13:43.085705: I tensorflow/stream_executor/cuda/cuda_gpu_executor.cc:936] successful NUMA node read from SysFS had negative value (-1), but there must be at least one NUMA node, so returning NUMA node zero\n",
      "2022-04-27 20:13:43.087964: I tensorflow/core/common_runtime/gpu/gpu_device.cc:1525] Created device /job:localhost/replica:0/task:0/device:GPU:0 with 1622 MB memory:  -> device: 0, name: NVIDIA GeForce GTX 960M, pci bus id: 0000:01:00.0, compute capability: 5.0\n"
     ]
    }
   ],
   "source": [
    "# Custom model\n",
    "\n",
    "model_custom = models.Sequential()\n",
    "model_custom.add(Conv2D(32, (3, 3), strides = 1, padding = 'same', activation = 'relu', input_shape=input_shape_val))\n",
    "model_custom.add(BatchNormalization())\n",
    "model_custom.add(MaxPooling2D((2, 2)))\n",
    "model_custom.add(Dropout(0.2))\n",
    "\n",
    "model_custom.add(Conv2D(64, (3, 3), strides=1, padding = 'same', activation = 'relu'))\n",
    "model_custom.add(BatchNormalization())\n",
    "model_custom.add(MaxPooling2D((2, 2)))\n",
    "model_custom.add(Dropout(0.2))\n",
    "\n",
    "model_custom.add(Conv2D(128, (3, 3), strides=1, padding = 'same', activation = 'relu'))\n",
    "model_custom.add(BatchNormalization())\n",
    "model_custom.add(MaxPooling2D((2, 2)))\n",
    "model_custom.add(Dropout(0.5))\n",
    "\n",
    "model_custom.add(Conv2D(256, (3, 3), strides=1, padding = 'same', activation = 'relu'))\n",
    "model_custom.add(BatchNormalization())\n",
    "model_custom.add(MaxPooling2D((2, 2)))\n",
    "model_custom.add(Dropout(0.5))\n",
    "\n",
    "\n",
    "# flatten\n",
    "model_custom.add(Flatten())\n",
    "\n",
    "model_custom.add(Dense(128, activation = 'relu'))\n",
    "model_custom.add(BatchNormalization())\n",
    "model_custom.add(Dropout(0.5))\n",
    "\n",
    "model_custom.add(Dense(64, activation = 'relu'))\n",
    "model_custom.add(BatchNormalization())\n",
    "\n",
    "model_custom.add(Dense(17, activation = 'softmax'))\n",
    "\n",
    "# name\n",
    "model_custom._name = \"model_custom\"\n",
    "# summary\n",
    "#model_custom.summary()"
   ]
  },
  {
   "cell_type": "code",
   "execution_count": null,
   "id": "3c6a74fa",
   "metadata": {},
   "outputs": [],
   "source": []
  }
 ],
 "metadata": {
  "kernelspec": {
   "display_name": "Python 3 (ipykernel)",
   "language": "python",
   "name": "python3"
  },
  "language_info": {
   "codemirror_mode": {
    "name": "ipython",
    "version": 3
   },
   "file_extension": ".py",
   "mimetype": "text/x-python",
   "name": "python",
   "nbconvert_exporter": "python",
   "pygments_lexer": "ipython3",
   "version": "3.10.4"
  }
 },
 "nbformat": 4,
 "nbformat_minor": 5
}
